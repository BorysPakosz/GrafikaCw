{
 "cells": [
  {
   "cell_type": "code",
   "execution_count": null,
   "metadata": {},
   "outputs": [],
   "source": [
    "from PIL import Image  \n",
    "import numpy as np"
   ]
  },
  {
   "cell_type": "code",
   "execution_count": null,
   "metadata": {},
   "outputs": [],
   "source": [
    "def rysuj_ramke_szare(w, h, grub, kolor_ramki, kolor):  \n",
    "    \"\"\"\n",
    "    Funkcja rysująca ramkę w odcieniach szarości.\n",
    "    :param w: szerokość obrazu\n",
    "    :param h: wysokość obrazu\n",
    "    :param grub: grubość ramki\n",
    "    :param kolor_ramki: kolor ramki (0-255)\n",
    "    :param kolor: kolor wnętrza (0-255)\n",
    "    \"\"\"\n",
    "    t = (h, w)\n",
    "    tab = np.ones(t, dtype=np.uint8)\n",
    "    tab[:] = kolor_ramki  # wypełnienie tablicy szarym kolorem o wartości kolor_ramki\n",
    "    tab[grub:h-grub, grub:w-grub] = kolor  # wypełnienie wnętrza kolorem o wartości kolor\n",
    "    return Image.fromarray(tab)"
   ]
  },
  {
   "cell_type": "code",
   "execution_count": null,
   "metadata": {},
   "outputs": [],
   "source": [
    "ramka_szara = rysuj_ramke_szare(300, 200, 5, 50, 200)\n",
    "ramka_szara.save(\"ramka_szara.png\")"
   ]
  },
  {
   "cell_type": "code",
   "execution_count": null,
   "metadata": {},
   "outputs": [],
   "source": [
    "def rysuj_pasy_pionowe_szare(w, h, grub, zmiana_koloru):\n",
    "    \"\"\"\n",
    "    Funkcja rysująca pasy pionowe w odcieniach szarości.\n",
    "    :param w: szerokość obrazu\n",
    "    :param h: wysokość obrazu\n",
    "    :param grub: grubość pasów\n",
    "    :param zmiana_koloru: zmiana koloru dla każdego pasa\n",
    "    \"\"\"\n",
    "    t = (h, w)\n",
    "    tab = np.ones(t, dtype=np.uint8) * 255  # tablica wypełniona białym kolorem (maksymalna jasność)\n",
    "    ile = int(w / grub)\n",
    "    for k in range(ile):\n",
    "        for g in range(grub):\n",
    "            j = k * grub + g\n",
    "            if j < w:  # Sprawdzenie czy nie przekroczymy szerokości\n",
    "                for i in range(h):\n",
    "                    tab[i, j] = (k + zmiana_koloru) % 256  # przejścia szarości\n",
    "    return Image.fromarray(tab)"
   ]
  },
  {
   "cell_type": "code",
   "execution_count": null,
   "metadata": {},
   "outputs": [],
   "source": [
    "pasy_pionowe_szare = rysuj_pasy_pionowe_szare(300, 200, 5, 100)\n",
    "pasy_pionowe_szare.save(\"pasy_pionowe_szare.png\")"
   ]
  }
 ],
 "metadata": {
  "kernelspec": {
   "display_name": "Python 3",
   "language": "python",
   "name": "python3"
  },
  "language_info": {
   "name": "python",
   "version": "3.11.9"
  }
 },
 "nbformat": 4,
 "nbformat_minor": 2
}
