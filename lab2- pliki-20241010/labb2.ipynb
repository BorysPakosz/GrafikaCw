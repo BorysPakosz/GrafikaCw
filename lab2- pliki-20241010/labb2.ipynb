{
 "cells": [
  {
   "cell_type": "code",
   "execution_count": null,
   "metadata": {},
   "outputs": [],
   "source": [
    "from PIL import Image  # Python Imaging Library\n",
    "import numpy as np"
   ]
  },
  {
   "cell_type": "code",
   "execution_count": null,
   "metadata": {},
   "outputs": [],
   "source": [
    "inicjaly = Image.open(\"bs.bmp\")  # wczytywanie obrazu\n",
    "\n",
    "print(\"tryb\", inicjaly.mode)\n",
    "print(\"format\", inicjaly.format)\n",
    "print(\"rozmiar\", inicjaly.size)\n",
    "\n",
    "t_inicjaly = np.asarray(inicjaly)\n",
    "print(\"typ danych tablicy\", t_inicjaly.dtype)  # typ danych przechowywanych w tablicy\n",
    "print(\"rozmiar tablicy\", t_inicjaly.shape)  # rozmiar tablicy - warto porównac z wymiarami obrazka"
   ]
  },
  {
   "cell_type": "code",
   "execution_count": null,
   "metadata": {},
   "outputs": [],
   "source": [
    "inicjaly\n",
    "# inicjaly.show()"
   ]
  },
  {
   "cell_type": "code",
   "execution_count": null,
   "metadata": {},
   "outputs": [],
   "source": [
    "def rysuj_ramke_w_obrazie(obraz, grub):\n",
    "    tab_obraz = np.asarray(obraz).astype(np.uint8)\n",
    "    h, w = tab_obraz.shape\n",
    "    for i in range(h):\n",
    "        for j in range(grub):\n",
    "            tab_obraz[i][j]=0 \n",
    "        for j in range(w-grub,w):\n",
    "            tab_obraz[i][j]=0   \n",
    "        \n",
    "    for i in range(grub):\n",
    "        tab_obraz[i][:]=0\n",
    "    for i in range(h-grub,h):\n",
    "        tab_obraz[i][:]=0\n",
    "        \n",
    "    tab = tab_obraz.astype(bool) # zapisanie tablicy w typie bool (obrazy czarnobiałe)\n",
    "    return Image.fromarray(tab)"
   ]
  },
  {
   "cell_type": "code",
   "execution_count": null,
   "metadata": {},
   "outputs": [],
   "source": [
    "rysuj_ramke_w_obrazie(inicjaly, 10)"
   ]
  }
 ],
 "metadata": {
  "kernelspec": {
   "display_name": "Python 3",
   "language": "python",
   "name": "python3"
  },
  "language_info": {
   "name": "python",
   "version": "3.12.1"
  }
 },
 "nbformat": 4,
 "nbformat_minor": 2
}
