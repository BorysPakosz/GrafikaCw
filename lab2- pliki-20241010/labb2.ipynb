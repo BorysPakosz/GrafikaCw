{
 "cells": [
  {
   "cell_type": "code",
   "execution_count": 1,
   "metadata": {},
   "outputs": [],
   "source": [
    "from PIL import Image  # Python Imaging Library\n",
    "import numpy as np"
   ]
  },
  {
   "cell_type": "code",
   "execution_count": 2,
   "metadata": {},
   "outputs": [
    {
     "name": "stdout",
     "output_type": "stream",
     "text": [
      "tryb 1\n",
      "format BMP\n",
      "rozmiar (100, 50)\n",
      "typ danych tablicy bool\n",
      "rozmiar tablicy (50, 100)\n"
     ]
    }
   ],
   "source": [
    "inicjaly = Image.open(\"bs.bmp\")  # wczytywanie obrazu\n",
    "\n",
    "print(\"tryb\", inicjaly.mode)\n",
    "print(\"format\", inicjaly.format)\n",
    "print(\"rozmiar\", inicjaly.size)\n",
    "\n",
    "t_inicjaly = np.asarray(inicjaly)\n",
    "print(\"typ danych tablicy\", t_inicjaly.dtype)  # typ danych przechowywanych w tablicy\n",
    "print(\"rozmiar tablicy\", t_inicjaly.shape)  # rozmiar tablicy - warto porównac z wymiarami obrazka"
   ]
  },
  {
   "cell_type": "code",
   "execution_count": 3,
   "metadata": {},
   "outputs": [
    {
     "data": {
      "image/jpeg": "[encoded data removed]",
      "image/png": "[encoded data removed]",
      "text/plain": [
       "<PIL.BmpImagePlugin.BmpImageFile image mode=1 size=100x50>"
      ]
     },
     "execution_count": 3,
     "metadata": {},
     "output_type": "execute_result"
    }
   ],
   "source": [
    "inicjaly\n",
    "# inicjaly.show()"
   ]
  },
  {
   "cell_type": "code",
   "execution_count": 4,
   "metadata": {},
   "outputs": [],
   "source": [
    "def rysuj_ramke_w_obrazie(obraz, grub):\n",
    "    tab_obraz = np.asarray(obraz).astype(np.uint8)\n",
    "    h, w = tab_obraz.shape\n",
    "    for i in range(h):\n",
    "        for j in range(grub):\n",
    "            tab_obraz[i][j]=0 \n",
    "        for j in range(w-grub,w):\n",
    "            tab_obraz[i][j]=0   \n",
    "        \n",
    "    for i in range(grub):\n",
    "        tab_obraz[i][:]=0\n",
    "    for i in range(h-grub,h):\n",
    "        tab_obraz[i][:]=0\n",
    "        \n",
    "    tab = tab_obraz.astype(bool)\n",
    "    return Image.fromarray(tab)"
   ]
  },
  {
   "cell_type": "code",
   "execution_count": 5,
   "metadata": {},
   "outputs": [
    {
     "data": {
      "image/jpeg": "[encoded data removed]",
      "image/png": "[encoded data removed]",
      "text/plain": [
       "<PIL.Image.Image image mode=1 size=100x50>"
      ]
     },
     "execution_count": 5,
     "metadata": {},
     "output_type": "execute_result"
    }
   ],
   "source": [
    "rysuj_ramke_w_obrazie(inicjaly, 10)"
   ]
  },
  {
   "cell_type": "code",
   "execution_count": 6,
   "metadata": {},
   "outputs": [],
   "source": [
    "\n",
    "def rysuj_ramki(w, h, grub):\n",
    "    tab = np.ones((h, w), dtype=np.uint8)\n",
    "    \n",
    "    ile = min(h, w)\n",
    "    \n",
    "    for i in range(ile):\n",
    "        color = 0 if i % 2 == 0 else 255 \n",
    "        tab[i * grub:h - i * grub, i * grub:w - i * grub] = color\n",
    "\n",
    "    return Image.fromarray(tab)\n"
   ]
  },
  {
   "cell_type": "code",
   "execution_count": 17,
   "metadata": {},
   "outputs": [
    {
     "data": {
      "image/jpeg": "[encoded data removed]",
      "image/png": "[encoded data removed]",
      "text/plain": [
       "<PIL.Image.Image image mode=L size=80x130>"
      ]
     },
     "execution_count": 17,
     "metadata": {},
     "output_type": "execute_result"
    }
   ],
   "source": [
    "rysuj_ramki(80, 130, 5)\n"
   ]
  },
  {
   "cell_type": "code",
   "execution_count": 8,
   "metadata": {},
   "outputs": [],
   "source": [
    "def rysuj_pasy_pionowe(w, h, grub):\n",
    "    tab = np.ones((h, w), dtype=np.uint8)\n",
    "    \n",
    "    ile = int(w / grub)\n",
    "    \n",
    "    for k in range(ile):  \n",
    "        for g in range(grub):  \n",
    "            j = k * grub + g  \n",
    "            if j < w:  \n",
    "                tab[:, j] = 0 if k % 2 == 0 else 255 \n",
    "  \n",
    "    return Image.fromarray(tab)\n",
    "\n"
   ]
  },
  {
   "cell_type": "code",
   "execution_count": 21,
   "metadata": {},
   "outputs": [
    {
     "data": {
      "image/jpeg": "[encoded data removed]",
      "image/png": "[encoded data removed]",
      "text/plain": [
       "<PIL.Image.Image image mode=L size=200x100>"
      ]
     },
     "execution_count": 21,
     "metadata": {},
     "output_type": "execute_result"
    }
   ],
   "source": [
    "rysuj_pasy_pionowe(200, 100, 10)"
   ]
  },
  {
   "cell_type": "code",
   "execution_count": 10,
   "metadata": {},
   "outputs": [],
   "source": [
    "def rysuj_wlasne(w, h, grub):\n",
    "    tab = np.ones((h, w), dtype=np.uint8)\n",
    "    \n",
    "    # Liczba kwadratów\n",
    "    ile_w = w // grub\n",
    "    ile_h = h // grub\n",
    "\n",
    "    for i in range(ile_h):\n",
    "        for j in range(ile_w):\n",
    "            color = 0 if (i + j) % 2 == 0 else 255  \n",
    "            tab[i * grub:(i + 1) * grub, j * grub:(j + 1) * grub] = color\n",
    "    return Image.fromarray(tab)\n",
    "\n",
    "\n"
   ]
  },
  {
   "cell_type": "code",
   "execution_count": 11,
   "metadata": {},
   "outputs": [
    {
     "data": {
      "image/jpeg": "[encoded data removed]",
      "image/png": "[encoded data removed]",
      "text/plain": [
       "<PIL.Image.Image image mode=L size=200x100>"
      ]
     },
     "execution_count": 11,
     "metadata": {},
     "output_type": "execute_result"
    }
   ],
   "source": [
    "rysuj_wlasne(200, 100, 10)"
   ]
  },
  {
   "cell_type": "code",
   "execution_count": 12,
   "metadata": {},
   "outputs": [],
   "source": [
    "def wstaw_obraz_w_obraz(obraz_bazowy, obraz_wstawiany, m, n):\n",
    "\n",
    "    tab_bazowy = np.asarray(obraz_bazowy).astype(np.uint8)\n",
    "    tab_wstawiany = np.asarray(obraz_wstawiany).astype(np.uint8)\n",
    "\n",
    "    h_b, w_b = tab_bazowy.shape \n",
    "    h_w, w_w = tab_wstawiany.shape  \n",
    "\n",
    "    n_k = min(h_b, n + h_w)  # Ograniczenie dolne dla wstawiania\n",
    "    m_k = min(w_b, m + w_w)  # Ograniczenie prawe dla wstawiania\n",
    "    n_p = max(0, n)          # Ograniczenie górne dla wstawiania\n",
    "    m_p = max(0, m)          # Ograniczenie lewe dla wstawiania\n",
    "\n",
    "    for i in range(n_p, n_k):\n",
    "        for j in range(m_p, m_k):\n",
    "            if 0 <= i - n < h_w and 0 <= j - m < w_w:\n",
    "                tab_bazowy[i][j] = tab_wstawiany[i - n][j - m]\n",
    "\n",
    "    return Image.fromarray(tab_bazowy)"
   ]
  },
  {
   "cell_type": "code",
   "execution_count": 13,
   "metadata": {},
   "outputs": [
    {
     "data": {
      "image/jpeg": "[encoded data removed]",
      "image/png": "[encoded data removed]",
      "text/plain": [
       "<PIL.Image.Image image mode=L size=400x200>"
      ]
     },
     "execution_count": 13,
     "metadata": {},
     "output_type": "execute_result"
    }
   ],
   "source": [
    "obraz_bazowy = rysuj_pasy_pionowe(400, 200, 20)\n",
    "obraz_wstawiany = rysuj_ramki(200, 100, 10)\n",
    "\n",
    "wstaw_obraz_w_obraz(obraz_bazowy, obraz_wstawiany, -50, 20)"
   ]
  },
  {
   "cell_type": "code",
   "execution_count": 14,
   "metadata": {},
   "outputs": [
    {
     "data": {
      "image/jpeg": "[encoded data removed]",
      "image/png": "[encoded data removed]",
      "text/plain": [
       "<PIL.Image.Image image mode=1 size=566x198>"
      ]
     },
     "execution_count": 14,
     "metadata": {},
     "output_type": "execute_result"
    }
   ],
   "source": [
    "data = np.loadtxt('tablica.txt', dtype=int)  \n",
    "def rysuj_ramke_w_obrazie(obraz, grub):\n",
    "    tab_obraz = np.asarray(obraz).astype(np.uint8)\n",
    "    h, w = tab_obraz.shape\n",
    "    for i in range(h):\n",
    "        for j in range(grub):\n",
    "            tab_obraz[i][j]=0 \n",
    "        for j in range(w-grub,w):\n",
    "            tab_obraz[i][j]=0   \n",
    "        \n",
    "    for i in range(grub):\n",
    "        tab_obraz[i][:]=0\n",
    "    for i in range(h-grub,h):\n",
    "        tab_obraz[i][:]=0\n",
    "        \n",
    "    tab = tab_obraz.astype(bool) \n",
    "    return Image.fromarray(tab)\n",
    "rysuj_ramke_w_obrazie(data, 50)"
   ]
  },
  {
   "cell_type": "code",
   "execution_count": 15,
   "metadata": {},
   "outputs": [
    {
     "data": {
      "image/jpeg": "[encoded data removed]",
      "image/png": "[encoded data removed]",
      "text/plain": [
       "<PIL.Image.Image image mode=L size=300x200>"
      ]
     },
     "execution_count": 15,
     "metadata": {},
     "output_type": "execute_result"
    }
   ],
   "source": [
    "inicjaly = Image.open(\"iniciały.bmp\")\n",
    "\n",
    "wstaw_obraz_w_obraz(rysuj_pasy_pionowe(300,200,15),inicjaly,0,50)"
   ]
  },
  {
   "cell_type": "code",
   "execution_count": 18,
   "metadata": {},
   "outputs": [
    {
     "data": {
      "image/jpeg": "[encoded data removed]",
      "image/png": "[encoded data removed]",
      "text/plain": [
       "<PIL.JpegImagePlugin.JpegImageFile image mode=RGB size=80x130>"
      ]
     },
     "execution_count": 18,
     "metadata": {},
     "output_type": "execute_result"
    }
   ],
   "source": [
    "obrazek = Image.open(\"5.jpg\")\n",
    "obrazek"
   ]
  },
  {
   "cell_type": "code",
   "execution_count": 20,
   "metadata": {},
   "outputs": [
    {
     "name": "stdout",
     "output_type": "stream",
     "text": [
      "typ danych tablicy: uint8\n",
      "rozmiar tablicy: (130, 80, 3)\n",
      "liczba elementow: 31200\n",
      "wymiar tablicy: 3\n"
     ]
    }
   ],
   "source": [
    "dane_obrazka = np.asarray(obrazek)\n",
    "print(\"typ danych tablicy:\", dane_obrazka.dtype)  # typ danych przechowywanych w tablicy\n",
    "print(\"rozmiar tablicy:\", dane_obrazka.shape)  # rozmiar tablicy - warto porównac z rozmiarami obrazka\n",
    "print(\"liczba elementow:\", dane_obrazka.size)  # liczba elementów tablicy\n",
    "print(\"wymiar tablicy:\", dane_obrazka.ndim)"
   ]
  },
  {
   "cell_type": "code",
   "execution_count": 22,
   "metadata": {},
   "outputs": [
    {
     "name": "stdout",
     "output_type": "stream",
     "text": [
      "tryb obrazu: P; wartość piksela (66,13): 0; wartość elementu tablicy (97,20): 255\n"
     ]
    }
   ],
   "source": [
    "# Wczytanie obrazu w formacie 256-kolorowym\n",
    "obraz_256 = Image.open('6.bmp')\n",
    "\n",
    "# Informacje o obrazie\n",
    "tryb_obraz = obraz_256.mode  # Tryb obrazu\n",
    "pixel_value = obraz_256.getpixel((66, 13))  # Wartość piksela w punkcie (66, 13)\n",
    "element_tablicy = obraz_256.getpixel((97, 20))  # Wartość piksela w punkcie (97, 20)\n",
    "\n",
    "# Wydrukowanie informacji\n",
    "print(f\"tryb obrazu: {tryb_obraz}; wartość piksela (66,13): {pixel_value}; wartość elementu tablicy (97,20): {element_tablicy}\")\n"
   ]
  }
 ],
 "metadata": {
  "kernelspec": {
   "display_name": "Python 3",
   "language": "python",
   "name": "python3"
  },
  "language_info": {
   "codemirror_mode": {
    "name": "ipython",
    "version": 3
   },
   "file_extension": ".py",
   "mimetype": "text/x-python",
   "name": "python",
   "nbconvert_exporter": "python",
   "pygments_lexer": "ipython3",
   "version": "3.11.9"
  }
 },
 "nbformat": 4,
 "nbformat_minor": 2
}
