{
 "cells": [
  {
   "cell_type": "code",
   "execution_count": 19,
   "metadata": {},
   "outputs": [],
   "source": [
    "from PIL import Image  # Python Imaging Library\n",
    "import numpy as np"
   ]
  },
  {
   "cell_type": "code",
   "execution_count": 20,
   "metadata": {},
   "outputs": [
    {
     "name": "stdout",
     "output_type": "stream",
     "text": [
      "tryb 1\n",
      "format BMP\n",
      "rozmiar (100, 50)\n",
      "typ danych tablicy bool\n",
      "rozmiar tablicy (50, 100)\n"
     ]
    }
   ],
   "source": [
    "inicjaly = Image.open(\"bs.bmp\")  # wczytywanie obrazu\n",
    "\n",
    "print(\"tryb\", inicjaly.mode)\n",
    "print(\"format\", inicjaly.format)\n",
    "print(\"rozmiar\", inicjaly.size)\n",
    "\n",
    "t_inicjaly = np.asarray(inicjaly)\n",
    "print(\"typ danych tablicy\", t_inicjaly.dtype)  # typ danych przechowywanych w tablicy\n",
    "print(\"rozmiar tablicy\", t_inicjaly.shape)  # rozmiar tablicy - warto porównac z wymiarami obrazka\n",
    "\n"
   ]
  },
  {
   "cell_type": "code",
   "execution_count": 21,
   "metadata": {},
   "outputs": [
    {
     "data": {
      "image/jpeg": "[encoded data removed]",
      "image/png": "[encoded data removed]",
      "text/plain": [
       "<PIL.BmpImagePlugin.BmpImageFile image mode=1 size=100x50>"
      ]
     },
     "execution_count": 21,
     "metadata": {},
     "output_type": "execute_result"
    }
   ],
   "source": [
    "inicjaly\n",
    "# inicjaly.show()"
   ]
  },
  {
   "cell_type": "code",
   "execution_count": 22,
   "metadata": {},
   "outputs": [],
   "source": [
    "def rysuj_ramke_w_obrazie(obraz, grub):\n",
    "    tab_obraz = np.asarray(obraz).astype(np.uint8)\n",
    "    h, w = tab_obraz.shape\n",
    "    for i in range(h):\n",
    "        for j in range(grub):\n",
    "            tab_obraz[i][j]=0 \n",
    "        for j in range(w-grub,w):\n",
    "            tab_obraz[i][j]=0   \n",
    "        \n",
    "    for i in range(grub):\n",
    "        tab_obraz[i][:]=0\n",
    "    for i in range(h-grub,h):\n",
    "        tab_obraz[i][:]=0\n",
    "        \n",
    "    tab = tab_obraz.astype(bool) # zapisanie tablicy w typie bool (obrazy czarnobiałe)\n",
    "    return Image.fromarray(tab)"
   ]
  },
  {
   "cell_type": "code",
   "execution_count": 23,
   "metadata": {},
   "outputs": [
    {
     "data": {
      "image/jpeg": "[encoded data removed]",
      "image/png": "[encoded data removed]",
      "text/plain": [
       "<PIL.Image.Image image mode=1 size=100x50>"
      ]
     },
     "execution_count": 23,
     "metadata": {},
     "output_type": "execute_result"
    }
   ],
   "source": [
    "rysuj_ramke_w_obrazie(inicjaly, 10)"
   ]
  },
  {
   "cell_type": "code",
   "execution_count": 4,
   "metadata": {},
   "outputs": [],
   "source": [
    "def rysuj_paski_w_obrazie(obraz, grub): # rysuje pionowy pas grubości grub po lewej stronie oraz po prawej stronie \n",
    "    tab_obraz = np.asarray(obraz).astype(np.uint8) # wczytanie tablicy obrazu i zamiana na int\n",
    "    h, w = tab_obraz.shape\n",
    "    for i in range(h):\n",
    "        for j in range(grub):\n",
    "            tab_obraz[i][j]=0 \n",
    "        for j in range(w-grub,w):\n",
    "            tab_obraz[i][j]=0   \n",
    "    tab = tab_obraz.astype(bool) # zapisanie tablicy w typie bool (obrazy czarnobiałe)\n",
    "    return Image.fromarray(tab)\n",
    "    "
   ]
  },
  {
   "cell_type": "code",
   "execution_count": 5,
   "metadata": {},
   "outputs": [
    {
     "data": {
      "image/jpeg": "[encoded data removed]",
      "image/png": "[encoded data removed]",
      "text/plain": [
       "<PIL.Image.Image image mode=1 size=100x50>"
      ]
     },
     "execution_count": 5,
     "metadata": {},
     "output_type": "execute_result"
    }
   ],
   "source": [
    "rysuj_paski_w_obrazie(inicjaly, 10)"
   ]
  },
  {
   "cell_type": "code",
   "execution_count": 24,
   "metadata": {},
   "outputs": [],
   "source": [
    "def rysuj_ramke(w, h, grub): # grub grubość ramki w pikselach\n",
    "    t = (h, w)  # rozmiar tablicy\n",
    "    tab = np.ones(t, dtype=np.uint8)  # deklaracja tablicy wypełnionej zerami - czarna\n",
    "    tab[grub:h - grub, grub:w - grub] = 0  # skrócona wersja ustawienia wartości dla prostokatnego fragmentu tablicy [zakresy wysokości, zakresy szerokości] tablicy\n",
    "    tab1 = tab.astype(np.bool_)\n",
    "    return Image.fromarray(tab1)"
   ]
  },
  {
   "cell_type": "code",
   "execution_count": 25,
   "metadata": {},
   "outputs": [
    {
     "data": {
      "image/jpeg": "[encoded data removed]",
      "image/png": "[encoded data removed]",
      "text/plain": [
       "<PIL.Image.Image image mode=1 size=200x100>"
      ]
     },
     "execution_count": 25,
     "metadata": {},
     "output_type": "execute_result"
    }
   ],
   "source": [
    "rysuj_ramke(200, 100, 20)"
   ]
  },
  {
   "cell_type": "code",
   "execution_count": 26,
   "metadata": {},
   "outputs": [],
   "source": [
    "def rysuj_pasy_poziome(w, h, grub):  # w, h   -  rozmiar obrazu\n",
    "    t = (h, w)  # rozmiar tablicy\n",
    "    tab = np.ones(t, dtype=np.uint8)\n",
    "    # jaki bedzie efekt, gdy np.ones zamienimy na np.zeros?\n",
    "    ile =  int(h/grub)  # liczba pasów  o grubości grub\n",
    "    for k in range(ile):  # uwaga k = 0,1,2..   bez ile\n",
    "        for g in range(grub):\n",
    "            i = k * grub + g  # i - indeks wiersza, j - indeks kolumny\n",
    "            for j in range(w):\n",
    "                tab[i, j] = k % 2  # reszta z dzielenia przez dwa\n",
    "    tab = tab * 255  # alternatywny sposób uzyskania tablicy obrazu czarnobiałego ale w trybie odcieni szarości\n",
    "    return Image.fromarray(tab)  # tworzy obraz\n"
   ]
  },
  {
   "cell_type": "code",
   "execution_count": 27,
   "metadata": {},
   "outputs": [
    {
     "data": {
      "image/jpeg": "[encoded data removed]",
      "image/png": "[encoded data removed]",
      "text/plain": [
       "<PIL.Image.Image image mode=L size=100x180>"
      ]
     },
     "execution_count": 27,
     "metadata": {},
     "output_type": "execute_result"
    }
   ],
   "source": [
    "rysuj_pasy_poziome(100, 180, 20)"
   ]
  },
  {
   "cell_type": "code",
   "execution_count": 10,
   "metadata": {},
   "outputs": [],
   "source": [
    "def wstaw_obraz(w, h, m, n, obraz): # w,h rozmiary nowego obrazu, m<=w,  n<=h (m,n miejsce wstawienia obrazu )\n",
    "    tab_obraz = np.asarray(obraz).astype(np.int_)\n",
    "    h0, w0 = tab_obraz.shape\n",
    "    t = (h, w)  # rozmiar tablicy nowego obrazu\n",
    "    tab = np.zeros(t, dtype=np.uint8)  # deklaracja tablicy wypełnionej zerami - czarna\n",
    "    n_k = min(h, n + h0) # jesli wstawiany obraz wychodzi poza ramy nowego obrazu, to przycinamy\n",
    "    m_k = min(w, m + w0) # jesli wstawiany obraz wychodzi poza ramy nowego obrazu, to przycinamy\n",
    "    n_p = max(0, n) # jesli miejsce wstawienia jest ujemne(wychodzi poza nowy obraz w górę), to przycinamy\n",
    "    m_p = max(0, m) # jesli miejsce wstawienia jest ujemne(wychodzi poza nowy obraz w lewo), to przycinamy\n",
    "    for i in range(n_p, n_k):\n",
    "        for j in range(m_p, m_k):\n",
    "            tab[i][j] = tab_obraz[i - n][j - m]\n",
    "    tab = tab.astype(bool) # zapisanie tablicy w typie bool (obrazy czarnobiałe)\n",
    "    return Image.fromarray(tab)\n",
    "    "
   ]
  },
  {
   "cell_type": "code",
   "execution_count": 28,
   "metadata": {},
   "outputs": [
    {
     "data": {
      "image/jpeg": "[encoded data removed]",
      "image/png": "[encoded data removed]",
      "text/plain": [
       "<PIL.Image.Image image mode=1 size=200x100>"
      ]
     },
     "execution_count": 28,
     "metadata": {},
     "output_type": "execute_result"
    }
   ],
   "source": [
    "wstaw_obraz(200, 100, -20, 20, inicjaly)"
   ]
  }
 ],
 "metadata": {
  "kernelspec": {
   "display_name": "Python 3",
   "language": "python",
   "name": "python3"
  },
  "language_info": {
   "codemirror_mode": {
    "name": "ipython",
    "version": 3
   },
   "file_extension": ".py",
   "mimetype": "text/x-python",
   "name": "python",
   "nbconvert_exporter": "python",
   "pygments_lexer": "ipython3",
   "version": "3.12.1"
  },
  "orig_nbformat": 4
 },
 "nbformat": 4,
 "nbformat_minor": 2
}
